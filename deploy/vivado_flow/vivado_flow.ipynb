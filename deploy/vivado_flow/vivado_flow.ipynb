{
 "cells": [
  {
   "cell_type": "markdown",
   "metadata": {},
   "source": []
  },
  {
   "cell_type": "markdown",
   "metadata": {},
   "source": [
    "## Setup\n",
    "\n",
    "Choose the target board. For the time being, you can use `minized`, `pynqz1`, `pynqz2`, `cmoda735t`. You may need to install the proper board files for the chosen board."
   ]
  },
  {
   "cell_type": "code",
   "execution_count": 1,
   "metadata": {},
   "outputs": [],
   "source": [
    "## ZCU106\n",
    "#board_name='zcu106'\n",
    "#fpga_part='xczu7ev-ffvc1156-2-e'\n",
    " \n",
    "## Ultra96\n",
    "#board_name='ultra96'\n",
    "#fpga_part='xczu3eg-sbva484-1-e'\n",
    "\n",
    "## Pynq-Z1\n",
    "#board_name='pynqz1'\n",
    "#fpga_part='xc7z020clg400-1'\n",
    "\n",
    "## Pynq-Z2\n",
    "board_name='pynqz2'\n",
    "fpga_part='xc7z020clg400-1'\n",
    "\n",
    "## MiniZed\n",
    "#board_name='minized'\n",
    "#fpga_part='xc7z007sclg225-1'\n",
    "\n",
    "##Cmod A7-35t\n",
    "#board_name='cmoda735t'\n",
    "#fpga_part='xc7a35tcpg236-1'"
   ]
  },
  {
   "cell_type": "markdown",
   "metadata": {},
   "source": [
    "Let's import the libraries, call the magic functions, and setup the environment variables."
   ]
  },
  {
   "cell_type": "code",
   "execution_count": 2,
   "metadata": {},
   "outputs": [
    {
     "name": "stdout",
     "output_type": "stream",
     "text": [
      "-----------------------------------\n",
      "Xilinx Vivado HLS is in the PATH\n",
      "-----------------------------------\n"
     ]
    }
   ],
   "source": [
    "import tensorflow as tf\n",
    "\n",
    "from tensorflow.keras.utils import to_categorical\n",
    "from tensorflow.keras.models import Sequential\n",
    "from tensorflow.keras.layers import Activation\n",
    "from tensorflow.keras.optimizers import Adam\n",
    "from tensorflow.keras.regularizers import l1\n",
    "\n",
    "from sklearn.datasets import fetch_openml\n",
    "from sklearn.model_selection import train_test_split\n",
    "from sklearn.preprocessing import LabelEncoder, StandardScaler\n",
    "\n",
    "from qkeras.qlayers import QDense, QActivation\n",
    "from qkeras.quantizers import quantized_bits, quantized_relu\n",
    "from qkeras.utils import _add_supported_quantized_objects\n",
    "\n",
    "import numpy as np\n",
    "\n",
    "import hls4ml\n",
    "\n",
    "from callbacks import all_callbacks\n",
    "import plotting\n",
    "\n",
    "import matplotlib.pyplot as plt\n",
    "%matplotlib inline\n",
    "\n",
    "import os\n",
    "os.environ['PATH'] = '/tools/Xilinx/Vivado/2019.1/bin:' + os.environ['PATH']\n",
    "\n",
    "def is_tool(name):\n",
    "    from distutils.spawn import find_executable\n",
    "    return find_executable(name) is not None\n",
    "\n",
    "print('-----------------------------------')\n",
    "if not is_tool('vivado_hls'):\n",
    "    print('Xilinx Vivado HLS is NOT in the PATH')\n",
    "else:\n",
    "    print('Xilinx Vivado HLS is in the PATH')\n",
    "print('-----------------------------------')"
   ]
  },
  {
   "cell_type": "markdown",
   "metadata": {},
   "source": [
    "## Load the dataset\n",
    "\n",
    "This is a lot like the previous notebooks, so we will go through quickly.\n",
    "\n",
    "First, we fetch the dataset from file, do the normalization and make a train and test split.\n",
    "\n",
    "We save the test dataset to files so that we can use them later."
   ]
  },
  {
   "cell_type": "code",
   "execution_count": 53,
   "metadata": {},
   "outputs": [],
   "source": [
    "#load processed test data\n",
    "from sklearn.utils import shuffle\n",
    "X = np.load('./test_data/test_data_frames_4_hops_512_fft_1024_mels_64_power_2.0.npy', allow_pickle=True)\n",
    "y = np.load('./test_data/test_data_frames_4_hops_512_fft_1024_mels_64_power_2.0_ground_truths.npy', allow_pickle=True)\n",
    "y_keras = []\n",
    "#use a quarter of the test_set to save time\n",
    "for i in range(len(X)):\n",
    "    quarter = int(len(X[i])/4)\n",
    "    assert len(X) == len(y)\n",
    "    X[i], y[i] = shuffle(X[i], y[i])\n",
    "    X[i], y[i] = X[i][0:quarter],  y[i][0:quarter]"
   ]
  },
  {
   "cell_type": "markdown",
   "metadata": {},
   "source": [
    "## Train or Load Model"
   ]
  },
  {
   "cell_type": "code",
   "execution_count": 4,
   "metadata": {
    "scrolled": true
   },
   "outputs": [
    {
     "name": "stdout",
     "output_type": "stream",
     "text": [
      "Model: \"model\"\n",
      "_________________________________________________________________\n",
      "Layer (type)                 Output Shape              Param #   \n",
      "=================================================================\n",
      "input_1 (InputLayer)         [(None, 256)]             0         \n",
      "_________________________________________________________________\n",
      "q_dense (QDense)             (None, 64)                16448     \n",
      "_________________________________________________________________\n",
      "batch_normalization (BatchNo (None, 64)                256       \n",
      "_________________________________________________________________\n",
      "q_activation (QActivation)   (None, 64)                0         \n",
      "_________________________________________________________________\n",
      "q_dense_1 (QDense)           (None, 64)                4160      \n",
      "_________________________________________________________________\n",
      "batch_normalization_1 (Batch (None, 64)                256       \n",
      "_________________________________________________________________\n",
      "q_activation_1 (QActivation) (None, 64)                0         \n",
      "_________________________________________________________________\n",
      "q_dense_2 (QDense)           (None, 64)                4160      \n",
      "_________________________________________________________________\n",
      "batch_normalization_2 (Batch (None, 64)                256       \n",
      "_________________________________________________________________\n",
      "q_activation_2 (QActivation) (None, 64)                0         \n",
      "_________________________________________________________________\n",
      "q_dense_3 (QDense)           (None, 64)                4160      \n",
      "_________________________________________________________________\n",
      "batch_normalization_3 (Batch (None, 64)                256       \n",
      "_________________________________________________________________\n",
      "q_activation_3 (QActivation) (None, 64)                0         \n",
      "_________________________________________________________________\n",
      "q_dense_4 (QDense)           (None, 8)                 520       \n",
      "_________________________________________________________________\n",
      "batch_normalization_4 (Batch (None, 8)                 32        \n",
      "_________________________________________________________________\n",
      "q_activation_4 (QActivation) (None, 8)                 0         \n",
      "_________________________________________________________________\n",
      "q_dense_5 (QDense)           (None, 64)                576       \n",
      "_________________________________________________________________\n",
      "batch_normalization_5 (Batch (None, 64)                256       \n",
      "_________________________________________________________________\n",
      "q_activation_5 (QActivation) (None, 64)                0         \n",
      "_________________________________________________________________\n",
      "q_dense_6 (QDense)           (None, 64)                4160      \n",
      "_________________________________________________________________\n",
      "batch_normalization_6 (Batch (None, 64)                256       \n",
      "_________________________________________________________________\n",
      "q_activation_6 (QActivation) (None, 64)                0         \n",
      "_________________________________________________________________\n",
      "q_dense_7 (QDense)           (None, 64)                4160      \n",
      "_________________________________________________________________\n",
      "batch_normalization_7 (Batch (None, 64)                256       \n",
      "_________________________________________________________________\n",
      "q_activation_7 (QActivation) (None, 64)                0         \n",
      "_________________________________________________________________\n",
      "q_dense_8 (QDense)           (None, 64)                4160      \n",
      "_________________________________________________________________\n",
      "batch_normalization_8 (Batch (None, 64)                256       \n",
      "_________________________________________________________________\n",
      "q_activation_8 (QActivation) (None, 64)                0         \n",
      "_________________________________________________________________\n",
      "q_dense_9 (QDense)           (None, 256)               16640     \n",
      "=================================================================\n",
      "Total params: 61,224\n",
      "Trainable params: 60,184\n",
      "Non-trainable params: 1,040\n",
      "_________________________________________________________________\n"
     ]
    }
   ],
   "source": [
    "import keras_model\n",
    "train = False\n",
    "#not os.path.exists('model/KERAS_check_best_model.h5')\n",
    "if train:\n",
    "    model.compile(loss=\"mean_squared_error\", optimizer=\"adam\")\n",
    "        \n",
    "    print(\"Shape of training data element is: {}\".format(train_data[0].shape))\n",
    "    history = model.fit(train_data,\n",
    "                        train_data,\n",
    "                        epochs=100,\n",
    "                        batch_size=512,\n",
    "                        shuffle=true,\n",
    "                        validation_split=0.1,\n",
    "                        verbose=1,\n",
    "                        callbacks=callbacks)\n",
    "    \n",
    "\n",
    "else:\n",
    "    model_file = 'model/train_config_bits_6_frames_4_mels_64_hidDims_64_encDims_8_bn_True_l1reg0/model_ToyCar.h5'\n",
    "    if not os.path.exists(model_file):\n",
    "        print(\"{} model not found at path \".format(model_file))\n",
    "\n",
    "    model = keras_model.load_model(model_file)\n",
    "    model.summary()"
   ]
  },
  {
   "cell_type": "markdown",
   "metadata": {},
   "source": [
    "## Check model sparisty"
   ]
  },
  {
   "cell_type": "code",
   "execution_count": 5,
   "metadata": {},
   "outputs": [
    {
     "name": "stdout",
     "output_type": "stream",
     "text": [
      "% of zeros = 0.0\n"
     ]
    },
    {
     "data": {
      "image/png": "[encoded data removed]",
      "text/plain": [
       "<Figure size 504x504 with 1 Axes>"
      ]
     },
     "metadata": {
      "needs_background": "light"
     },
     "output_type": "display_data"
    }
   ],
   "source": [
    "w = model.layers[1].weights[0].numpy()\n",
    "h, b = np.histogram(w, bins=100)\n",
    "plt.figure(figsize=(7,7))\n",
    "plt.bar(b[:-1], h, width=b[1]-b[0])\n",
    "plt.semilogy()\n",
    "print('% of zeros = {}'.format(np.sum(w==0)/np.size(w)))"
   ]
  },
  {
   "cell_type": "markdown",
   "metadata": {},
   "source": [
    "## Check accuracy\n",
    "\n",
    "Do not expect a good accuracy because of the low amount of neurons. I could have done better than this, but as long as it fits both Pynq-Z1 and MiniZed, it is fine with us."
   ]
  },
  {
   "cell_type": "code",
   "execution_count": 6,
   "metadata": {},
   "outputs": [
    {
     "data": {
      "image/png": "[encoded data removed]",
      "text/plain": [
       "<Figure size 432x288 with 1 Axes>"
      ]
     },
     "metadata": {
      "needs_background": "light"
     },
     "output_type": "display_data"
    }
   ],
   "source": [
    "from sklearn.metrics import accuracy_score\n",
    "from sklearn import metrics\n",
    "from sklearn.utils import shuffle\n",
    "import matplotlib.pyplot as plt\n",
    "%matplotlib inline\n",
    "import plotting\n",
    "import numpy\n",
    "\n",
    "#load processed test data\n",
    "X = np.load('./test_data/test_data_frames_4_hops_512_fft_1024_mels_64_power_2.0.npy', allow_pickle=True)\n",
    "y = np.load('./test_data/test_data_frames_4_hops_512_fft_1024_mels_64_power_2.0_ground_truths.npy', allow_pickle=True)\n",
    "y_keras = []\n",
    "#use a quarter of the test_set to save time\n",
    "for i in range(len(X)):\n",
    "    quarter = int(len(X[i])/4)\n",
    "    assert len(X) == len(y)\n",
    "    X[i], y[i] = shuffle(X[i], y[i])\n",
    "    X[i], y[i] = X[i][0:quarter],  y[i][0:quarter]\n",
    "\n",
    "#perform inference\n",
    "for index, X_data in enumerate(X):\n",
    "    y_pred = [0. for ind in X_data]\n",
    "    for file_idx, X_test in enumerate(X_data):\n",
    "        predictions = model.predict(X_test)\n",
    "        errors = np.mean(np.square(X_test-predictions), axis=1)\n",
    "        y_pred[file_idx] = numpy.mean(errors)\n",
    "        \n",
    "    #generate auc and roc metrics\n",
    "    y_test = y[index]\n",
    "    fpr, tpr, threshold = metrics.roc_curve(y_test, y_pred)\n",
    "    roc_auc = metrics.auc(fpr, tpr)\n",
    "    y_keras.append(y_pred)\n",
    "\n",
    "    plt.title('Receiver Operating Characteristic')\n",
    "    plt.plot(fpr, tpr, label = 'AUC m_{} = {}'.format(index, round(roc_auc,2)), linewidth = 1.5)\n",
    "    plt.legend(loc = 'lower right')\n",
    "    plt.plot([0, 1], [0, 1],'r--', linewidth=1)\n",
    "    plt.xlim([0, 1])\n",
    "    plt.ylim([0, 1])\n",
    "    plt.ylabel('True Positive Rate')\n",
    "    plt.xlabel('False Positive Rate')\n",
    "plt.show()\n"
   ]
  },
  {
   "cell_type": "markdown",
   "metadata": {},
   "source": [
    "## Make an hls4ml configuration (Step 2)\n",
    "\n",
    "Notice we're using `Strategy: Resource` for every layer, and `ReuseFactor: 64`. The Programmable Logic (FPGA part) of the Pynq-Z1 SoC is not big compared to VU9P type of parts.\n",
    "\n",
    "We also use some settings which are good for QKeras.\n",
    "\n",
    "Notice the `fpga_part:'xc7z020clg400-1'`."
   ]
  },
  {
   "cell_type": "code",
   "execution_count": 7,
   "metadata": {
    "scrolled": true
   },
   "outputs": [
    {
     "name": "stdout",
     "output_type": "stream",
     "text": [
      "Model\n",
      "  ReuseFactor:       512\n",
      "  Strategy:          Resource\n",
      "  Precision:         ap_fixed<32,16>\n",
      "LayerName\n",
      "  input_1\n",
      "    Precision:       ap_fixed<8,8>\n",
      "  q_dense\n",
      "    Precision\n",
      "      weight:        ap_fixed<7,1>\n",
      "      bias:          ap_fixed<7,1>\n",
      "    ReuseFactor:     512\n",
      "  batch_normalization\n",
      "    Precision\n",
      "      scale:         ap_fixed<16,6>\n",
      "      bias:          ap_fixed<16,6>\n",
      "    ReuseFactor:     512\n",
      "  q_activation\n",
      "    Precision\n",
      "      result:        ap_fixed<16,6>\n",
      "    ReuseFactor:     512\n",
      "  q_dense_1\n",
      "    Precision\n",
      "      weight:        ap_fixed<7,1>\n",
      "      bias:          ap_fixed<7,1>\n",
      "    ReuseFactor:     512\n",
      "  batch_normalization_1\n",
      "    Precision\n",
      "      scale:         ap_fixed<16,6>\n",
      "      bias:          ap_fixed<16,6>\n",
      "    ReuseFactor:     512\n",
      "  q_activation_1\n",
      "    Precision\n",
      "      result:        ap_fixed<7,4>\n",
      "    ReuseFactor:     512\n",
      "  q_dense_2\n",
      "    Precision\n",
      "      weight:        ap_fixed<7,1>\n",
      "      bias:          ap_fixed<7,1>\n",
      "    ReuseFactor:     512\n",
      "  batch_normalization_2\n",
      "    Precision\n",
      "      scale:         ap_fixed<16,6>\n",
      "      bias:          ap_fixed<16,6>\n",
      "    ReuseFactor:     512\n",
      "  q_activation_2\n",
      "    Precision\n",
      "      result:        ap_fixed<7,4>\n",
      "    ReuseFactor:     512\n",
      "  q_dense_3\n",
      "    Precision\n",
      "      weight:        ap_fixed<7,1>\n",
      "      bias:          ap_fixed<7,1>\n",
      "    ReuseFactor:     512\n",
      "  batch_normalization_3\n",
      "    Precision\n",
      "      scale:         ap_fixed<16,6>\n",
      "      bias:          ap_fixed<16,6>\n",
      "    ReuseFactor:     512\n",
      "  q_activation_3\n",
      "    Precision\n",
      "      result:        ap_fixed<7,4>\n",
      "    ReuseFactor:     512\n",
      "  q_dense_4\n",
      "    Precision\n",
      "      weight:        ap_fixed<7,1>\n",
      "      bias:          ap_fixed<7,1>\n",
      "    ReuseFactor:     512\n",
      "  batch_normalization_4\n",
      "    Precision\n",
      "      scale:         ap_fixed<16,6>\n",
      "      bias:          ap_fixed<16,6>\n",
      "    ReuseFactor:     512\n",
      "  q_activation_4\n",
      "    Precision\n",
      "      result:        ap_fixed<7,4>\n",
      "    ReuseFactor:     512\n",
      "  q_dense_5\n",
      "    Precision\n",
      "      weight:        ap_fixed<7,1>\n",
      "      bias:          ap_fixed<7,1>\n",
      "    ReuseFactor:     512\n",
      "  batch_normalization_5\n",
      "    Precision\n",
      "      scale:         ap_fixed<16,6>\n",
      "      bias:          ap_fixed<16,6>\n",
      "    ReuseFactor:     512\n",
      "  q_activation_5\n",
      "    Precision\n",
      "      result:        ap_fixed<7,4>\n",
      "    ReuseFactor:     512\n",
      "  q_dense_6\n",
      "    Precision\n",
      "      weight:        ap_fixed<7,1>\n",
      "      bias:          ap_fixed<7,1>\n",
      "    ReuseFactor:     512\n",
      "  batch_normalization_6\n",
      "    Precision\n",
      "      scale:         ap_fixed<16,6>\n",
      "      bias:          ap_fixed<16,6>\n",
      "    ReuseFactor:     512\n",
      "  q_activation_6\n",
      "    Precision\n",
      "      result:        ap_fixed<7,4>\n",
      "    ReuseFactor:     512\n",
      "  q_dense_7\n",
      "    Precision\n",
      "      weight:        ap_fixed<7,1>\n",
      "      bias:          ap_fixed<7,1>\n",
      "    ReuseFactor:     512\n",
      "  batch_normalization_7\n",
      "    Precision\n",
      "      scale:         ap_fixed<16,6>\n",
      "      bias:          ap_fixed<16,6>\n",
      "    ReuseFactor:     512\n",
      "  q_activation_7\n",
      "    Precision\n",
      "      result:        ap_fixed<7,4>\n",
      "    ReuseFactor:     512\n",
      "  q_dense_8\n",
      "    Precision\n",
      "      weight:        ap_fixed<7,1>\n",
      "      bias:          ap_fixed<7,1>\n",
      "    ReuseFactor:     512\n",
      "  batch_normalization_8\n",
      "    Precision\n",
      "      scale:         ap_fixed<16,6>\n",
      "      bias:          ap_fixed<16,6>\n",
      "    ReuseFactor:     512\n",
      "  q_activation_8\n",
      "    Precision\n",
      "      result:        ap_fixed<7,4>\n",
      "    ReuseFactor:     512\n",
      "  q_dense_9\n",
      "    Precision\n",
      "      weight:        ap_fixed<7,1>\n",
      "      bias:          ap_fixed<7,1>\n",
      "    ReuseFactor:     512\n"
     ]
    }
   ],
   "source": [
    "\n",
    "hls4ml.model.optimizer.OutputRoundingSaturationMode.layers = ['Activation']\n",
    "hls4ml.model.optimizer.OutputRoundingSaturationMode.rounding_mode = 'AP_RND'\n",
    "hls4ml.model.optimizer.OutputRoundingSaturationMode.saturation_mode = 'AP_SAT'\n",
    "\n",
    "hls_config = hls4ml.utils.config_from_keras_model(model, granularity='name')\n",
    "hls_config['Model'] = {}\n",
    "hls_config['Model']['ReuseFactor'] = 512\n",
    "hls_config['Model']['Strategy'] = 'Resource'\n",
    "hls_config['Model']['Precision'] = 'ap_fixed<32,16>'\n",
    "hls_config['LayerName']['input_1']['Precision'] = 'ap_fixed<8,8>'\n",
    "\n",
    "hls_config['LayerName']['q_dense']['Precision']['weight'] = 'ap_fixed<7,1>'\n",
    "hls_config['LayerName']['q_dense']['Precision']['bias'] = 'ap_fixed<7,1>'\n",
    "hls_config['LayerName']['q_dense']['ReuseFactor'] = 512\n",
    "\n",
    "hls_config['LayerName']['batch_normalization']['Precision']['scale'] = 'ap_fixed<16,6>'\n",
    "hls_config['LayerName']['batch_normalization']['Precision']['bias'] = 'ap_fixed<16,6>'\n",
    "hls_config['LayerName']['batch_normalization']['ReuseFactor'] = 512\n",
    "\n",
    "hls_config['LayerName']['q_activation']['Precision']['result'] = 'ap_fixed<16,6>'\n",
    "hls_config['LayerName']['q_activation']['ReuseFactor'] = 512\n",
    "\n",
    "for i in range(1,9):\n",
    "    \n",
    "    hls_config['LayerName']['q_dense_{}'.format(i)]['Precision']['weight'] = 'ap_fixed<7,1>'\n",
    "    hls_config['LayerName']['q_dense_{}'.format(i)]['Precision']['bias'] = 'ap_fixed<7,1>'\n",
    "    hls_config['LayerName']['q_dense_{}'.format(i)]['ReuseFactor'] = 512\n",
    "\n",
    "    hls_config['LayerName']['batch_normalization_{}'.format(i)]['Precision']['scale'] = 'ap_fixed<16,6>'\n",
    "    hls_config['LayerName']['batch_normalization_{}'.format(i)]['Precision']['bias'] = 'ap_fixed<16,6>'\n",
    "    hls_config['LayerName']['batch_normalization_{}'.format(i)]['ReuseFactor'] = 512\n",
    "\n",
    "    hls_config['LayerName']['q_activation_{}'.format(i)]['Precision']['result'] = 'ap_fixed<7,4>'\n",
    "    hls_config['LayerName']['q_activation_{}'.format(i)]['ReuseFactor'] = 512\n",
    "    \n",
    "#final output\n",
    "hls_config['LayerName']['q_dense_9']['Precision']['weight'] = 'ap_fixed<7,1>'\n",
    "hls_config['LayerName']['q_dense_9']['Precision']['bias'] = 'ap_fixed<7,1>'\n",
    "hls_config['LayerName']['q_dense_9']['ReuseFactor'] = 512\n",
    "\n",
    "# print(\"-----------------------------------\")\n",
    "plotting.print_dict(hls_config)\n",
    "# print(\"-----------------------------------\")"
   ]
  },
  {
   "cell_type": "markdown",
   "metadata": {},
   "source": [
    "## Convert and Compile\n",
    "\n",
    "You can set some target specific configurations:"
   ]
  },
  {
   "cell_type": "markdown",
   "metadata": {},
   "source": [
    "- Define the `interface`, which for our current setup should always be `m_axi`.\n",
    "- Define the  width of the AXI bus. For the time being, use `16` that is each clock cycle you transfer a single input or output value (`ap_fixed<16,*>`).\n",
    "- Define the implementation. For the time being, use `serial`."
   ]
  },
  {
   "cell_type": "code",
   "execution_count": 8,
   "metadata": {},
   "outputs": [],
   "source": [
    "interface = 'm_axi' # 's_axilite', 'm_axi', 'hls_stream'\n",
    "axi_width = 16 # 16, 32, 64\n",
    "implementation = 'serial' # 'serial', 'dataflow'"
   ]
  },
  {
   "cell_type": "code",
   "execution_count": 9,
   "metadata": {
    "scrolled": true
   },
   "outputs": [],
   "source": [
    "output_dir='hls/' + board_name + '_' + interface + '_' + str(axi_width) + '_' + implementation + '_prj' \n",
    "\n",
    "backend_config = hls4ml.converters.create_backend_config(fpga_part=fpga_part)\n",
    "backend_config['ProjectName'] = 'anomaly_detector'\n",
    "backend_config['KerasModel'] = model\n",
    "backend_config['HLSConfig'] = hls_config\n",
    "backend_config['OutputDir'] = output_dir\n",
    "backend_config['Backend'] = 'Pynq'\n",
    "backend_config['Interface'] = interface\n",
    "backend_config['IOType'] = 'io_parallel'\n",
    "backend_config['AxiWidth'] = str(axi_width)\n",
    "backend_config['Implementation'] = implementation\n",
    "backend_config['ClockPeriod'] = 10\n",
    "\n",
    "#print(\"-----------------------------------\")\n",
    "#plotting.print_dict(backend_config)\n",
    "#print(\"-----------------------------------\")\n",
    "\n",
    "# hls_model = hls4ml.converters.keras_to_hls(backend_config)\n",
    "hls_model = hls4ml.converters.convert_from_keras_model(model,\n",
    "                                                                hls_config=hls_config,\n",
    "                                                                output_dir=output_dir,\n",
    "                                                                fpga_part=fpga_part,\n",
    "                                                                clock_period=10,\n",
    "                                                                io_type='io_parallel',\n",
    "                                                                project_name='anomaly_detector')\n",
    "\n",
    "_ = hls_model.compile()"
   ]
  },
  {
   "cell_type": "code",
   "execution_count": 10,
   "metadata": {
    "scrolled": true
   },
   "outputs": [
    {
     "name": "stdout",
     "output_type": "stream",
     "text": [
      "[[-22.66752309 -15.87834421 -12.05420569 ... -46.70820574 -43.63112037\n",
      "  -47.34217204]\n",
      " [-22.91999925 -10.30339953  -7.20432795 ... -48.56425809 -44.47326624\n",
      "  -48.71178853]\n",
      " [-21.21260366 -11.41601005  -5.69685202 ... -45.36296337 -44.56685041\n",
      "  -49.11072968]\n",
      " ...\n",
      " [-17.97860439  -8.10004177 -11.35645197 ... -40.52992974 -40.76692988\n",
      "  -47.81725529]\n",
      " [-19.06322285 -10.03519574  -4.4613559  ... -43.87513261 -43.48089711\n",
      "  -49.85018812]\n",
      " [-20.73231255  -5.63511453  -2.98693598 ... -43.43411632 -41.98729\n",
      "  -47.80816722]]\n"
     ]
    }
   ],
   "source": [
    "print(X[0][0])"
   ]
  },
  {
   "cell_type": "markdown",
   "metadata": {},
   "source": [
    "## Profiling"
   ]
  },
  {
   "cell_type": "code",
   "execution_count": 11,
   "metadata": {
    "scrolled": true
   },
   "outputs": [
    {
     "data": {
      "text/plain": [
       "(<Figure size 432x288 with 1 Axes>, <Figure size 432x288 with 1 Axes>)"
      ]
     },
     "execution_count": 11,
     "metadata": {},
     "output_type": "execute_result"
    },
    {
     "data": {
      "image/png": "[encoded data removed]",
      "text/plain": [
       "<Figure size 432x288 with 1 Axes>"
      ]
     },
     "metadata": {
      "needs_background": "light"
     },
     "output_type": "display_data"
    },
    {
     "data": {
      "image/png": "[encoded data removed]",
      "text/plain": [
       "<Figure size 432x288 with 1 Axes>"
      ]
     },
     "metadata": {
      "needs_background": "light"
     },
     "output_type": "display_data"
    }
   ],
   "source": [
    "%matplotlib inline\n",
    "hls4ml.model.profiling.numerical(model=model, hls_model=hls_model, X=X[0][0])"
   ]
  },
  {
   "cell_type": "code",
   "execution_count": null,
   "metadata": {},
   "outputs": [],
   "source": []
  },
  {
   "cell_type": "markdown",
   "metadata": {},
   "source": [
    "## Prediction and Comparison\n"
   ]
  },
  {
   "cell_type": "code",
   "execution_count": 12,
   "metadata": {},
   "outputs": [
    {
     "data": {
      "image/png": "[encoded data removed]",
      "text/plain": [
       "<Figure size 432x288 with 1 Axes>"
      ]
     },
     "metadata": {
      "needs_background": "light"
     },
     "output_type": "display_data"
    }
   ],
   "source": [
    "#load processed test data\n",
    "X = np.load('./test_data/test_data_frames_4_hops_512_fft_1024_mels_64_power_2.0.npy', allow_pickle=True)\n",
    "y = np.load('./test_data/test_data_frames_4_hops_512_fft_1024_mels_64_power_2.0_ground_truths.npy', allow_pickle=True)\n",
    "\n",
    "colors = ['tab:blue', 'tab:orange', 'tab:green', 'tab:purple']\n",
    "\n",
    "#use a quarter of the test_set to save time\n",
    "for i in range(len(X)):\n",
    "    quarter = int(len(X[i])/4)\n",
    "    assert len(X) == len(y)\n",
    "    X[i], y[i] = shuffle(X[i], y[i])\n",
    "    X[i], y[i] = X[i][0:quarter],  y[i][0:quarter]\n",
    "\n",
    "#perform inference\n",
    "for index, X_data in enumerate(X):\n",
    "    keras_pred = [0. for ind in X_data]\n",
    "    hls_pred = [0. for ind in X_data]\n",
    "    for file_idx, X_test in enumerate(X_data):\n",
    "        keras_predictions = model.predict(X_test)\n",
    "        keras_errors = np.mean(np.square(X_test-keras_predictions), axis=1)\n",
    "        keras_pred[file_idx] = numpy.mean(keras_errors)\n",
    "        \n",
    "        hls_predictions = hls_model.predict(X_test)\n",
    "        hls_errors = np.mean(np.square(X_test-hls_predictions), axis=1)\n",
    "        hls_pred[file_idx] = numpy.mean(hls_errors)\n",
    "        \n",
    "    #generate auc and roc metrics\n",
    "    y_test = y[index]\n",
    "    k_fpr, k_tpr, k_threshold = metrics.roc_curve(y_test, keras_pred)\n",
    "    k_roc_auc = metrics.auc(k_fpr, k_tpr)\n",
    "    h_fpr, h_tpr, h_threshold = metrics.roc_curve(y_test, hls_pred)\n",
    "    h_roc_auc = metrics.auc(h_fpr, h_tpr)\n",
    "\n",
    "\n",
    "    plt.title('Receiver Operating Characteristic')\n",
    "    plt.plot(k_fpr, k_tpr, label = 'keras AUC m_{} = {}'.format(index, round(k_roc_auc,2)), linewidth = 1.5, color=colors[index])\n",
    "    plt.plot(h_fpr, h_tpr, label = 'hls AUC m_{} = {}'.format(index, round(h_roc_auc,2)), linewidth = 1, linestyle='--', color=colors[index])\n",
    "    plt.legend(loc = 'lower right')\n",
    "    plt.plot([0, 1], [0, 1],'r--', linewidth=1)\n",
    "    plt.xlim([0, 1])\n",
    "    plt.ylim([0, 1])\n",
    "    plt.ylabel('True Positive Rate')\n",
    "    plt.xlabel('False Positive Rate')\n",
    "plt.show()"
   ]
  },
  {
   "cell_type": "markdown",
   "metadata": {},
   "source": [
    "## Synthesis"
   ]
  },
  {
   "cell_type": "code",
   "execution_count": 13,
   "metadata": {},
   "outputs": [
    {
     "name": "stdout",
     "output_type": "stream",
     "text": [
      "Found 1 solution(s) in hls/pynqz2_m_axi_16_serial_prj/anomaly_detector_prj.\n",
      "Reports for solution \"solution1\":\n",
      "\n",
      "C simulation report not found.\n",
      "SYNTHESIS REPORT:\n",
      "================================================================\n",
      "== Vivado HLS Report for 'anomaly_detector'\n",
      "================================================================\n",
      "* Date:           Tue Mar 30 20:31:33 2021\n",
      "\n",
      "* Version:        2019.1 (Build 2552052 on Fri May 24 15:28:33 MDT 2019)\n",
      "* Project:        anomaly_detector_prj\n",
      "* Solution:       solution1\n",
      "* Product family: zynq\n",
      "* Target device:  xc7z020-clg400-1\n",
      "\n",
      "\n",
      "================================================================\n",
      "== Performance Estimates\n",
      "================================================================\n",
      "+ Timing (ns): \n",
      "    * Summary: \n",
      "    +--------+-------+----------+------------+\n",
      "    |  Clock | Target| Estimated| Uncertainty|\n",
      "    +--------+-------+----------+------------+\n",
      "    |ap_clk  |  10.00|    11.226|        1.25|\n",
      "    +--------+-------+----------+------------+\n",
      "\n",
      "+ Latency (clock cycles): \n",
      "    * Summary: \n",
      "    +------+------+-----+-----+----------+\n",
      "    |   Latency   |  Interval | Pipeline |\n",
      "    |  min |  max | min | max |   Type   |\n",
      "    +------+------+-----+-----+----------+\n",
      "    |  5181|  5191|  516|  517| dataflow |\n",
      "    +------+------+-----+-----+----------+\n",
      "\n",
      "    + Detail: \n",
      "        * Instance: \n",
      "        +------------------------------------------------------------------+---------------------------------------------------------------+-----+-----+-----+-----+----------+\n",
      "        |                                                                  |                                                               |  Latency  |  Interval | Pipeline |\n",
      "        |                             Instance                             |                             Module                            | min | max | min | max |   Type   |\n",
      "        +------------------------------------------------------------------+---------------------------------------------------------------+-----+-----+-----+-----+----------+\n",
      "        |dense_ap_fixed_ap_fixed_32_16_5_3_0_config38_U0                   |dense_ap_fixed_ap_fixed_32_16_5_3_0_config38_s                 |  515|  516|  515|  516|   none   |\n",
      "        |dense_ap_fixed_ap_fixed_32_16_5_3_0_config6_U0                    |dense_ap_fixed_ap_fixed_32_16_5_3_0_config6_s                  |  515|  516|  515|  516|   none   |\n",
      "        |dense_ap_fixed_ap_fixed_32_16_5_3_0_config14_U0                   |dense_ap_fixed_ap_fixed_32_16_5_3_0_config14_s                 |  514|  515|  514|  515|   none   |\n",
      "        |dense_ap_fixed_ap_fixed_32_16_5_3_0_config26_U0                   |dense_ap_fixed_ap_fixed_32_16_5_3_0_config26_s                 |  514|  515|  514|  515|   none   |\n",
      "        |dense_ap_fixed_ap_fixed_32_16_5_3_0_config30_U0                   |dense_ap_fixed_ap_fixed_32_16_5_3_0_config30_s                 |  514|  515|  514|  515|   none   |\n",
      "        |dense_ap_fixed_ap_fixed_32_16_5_3_0_config10_U0                   |dense_ap_fixed_ap_fixed_32_16_5_3_0_config10_s                 |  514|  515|  514|  515|   none   |\n",
      "        |dense_ap_fixed_ap_fixed_32_16_5_3_0_config34_U0                   |dense_ap_fixed_ap_fixed_32_16_5_3_0_config34_s                 |  514|  515|  514|  515|   none   |\n",
      "        |dense_ap_fixed_ap_fixed_32_16_5_3_0_config2_U0                    |dense_ap_fixed_ap_fixed_32_16_5_3_0_config2_s                  |  515|  516|  515|  516|   none   |\n",
      "        |dense_ap_fixed_ap_fixed_32_16_5_3_0_config22_U0                   |dense_ap_fixed_ap_fixed_32_16_5_3_0_config22_s                 |  514|  515|  514|  515|   none   |\n",
      "        |relu_ap_fixed_ap_fixed_16_6_0_0_0_relu_config5_U0                 |relu_ap_fixed_ap_fixed_16_6_0_0_0_relu_config5_s               |    0|    0|    1|    1| function |\n",
      "        |relu_ap_fixed_ap_fixed_7_4_0_0_0_relu_config9_U0                  |relu_ap_fixed_ap_fixed_7_4_0_0_0_relu_config9_s                |    0|    0|    1|    1| function |\n",
      "        |relu_ap_fixed_ap_fixed_7_4_0_0_0_relu_config13_U0                 |relu_ap_fixed_ap_fixed_7_4_0_0_0_relu_config13_s               |    0|    0|    1|    1| function |\n",
      "        |relu_ap_fixed_ap_fixed_7_4_0_0_0_relu_config17_U0                 |relu_ap_fixed_ap_fixed_7_4_0_0_0_relu_config17_s               |    0|    0|    1|    1| function |\n",
      "        |relu_ap_fixed_ap_fixed_7_4_0_0_0_relu_config25_U0                 |relu_ap_fixed_ap_fixed_7_4_0_0_0_relu_config25_s               |    0|    0|    1|    1| function |\n",
      "        |relu_ap_fixed_ap_fixed_7_4_0_0_0_relu_config29_U0                 |relu_ap_fixed_ap_fixed_7_4_0_0_0_relu_config29_s               |    0|    0|    1|    1| function |\n",
      "        |relu_ap_fixed_ap_fixed_7_4_0_0_0_relu_config33_U0                 |relu_ap_fixed_ap_fixed_7_4_0_0_0_relu_config33_s               |    0|    0|    1|    1| function |\n",
      "        |relu_ap_fixed_ap_fixed_7_4_0_0_0_relu_config37_U0                 |relu_ap_fixed_ap_fixed_7_4_0_0_0_relu_config37_s               |    0|    0|    1|    1| function |\n",
      "        |dense_ap_fixed_ap_fixed_32_16_5_3_0_config18_U0                   |dense_ap_fixed_ap_fixed_32_16_5_3_0_config18_s                 |  514|  515|  514|  515|   none   |\n",
      "        |normalize_0_0_0_0_0_0_0_0_0_0_0_0_0_0_0_0_0_0_0_0_0_0_0_0_0_1_U0  |normalize_0_0_0_0_0_0_0_0_0_0_0_0_0_0_0_0_0_0_0_0_0_0_0_0_0_1  |    1|    1|    1|    1|   none   |\n",
      "        |normalize_0_0_0_0_0_0_0_0_0_0_0_0_0_0_0_0_0_0_0_0_0_0_0_0_0_U0    |normalize_0_0_0_0_0_0_0_0_0_0_0_0_0_0_0_0_0_0_0_0_0_0_0_0_0_s  |    1|    1|    1|    1|   none   |\n",
      "        |normalize_0_0_0_0_0_0_0_0_0_0_0_0_0_0_0_0_0_0_0_0_0_0_0_0_0_7_U0  |normalize_0_0_0_0_0_0_0_0_0_0_0_0_0_0_0_0_0_0_0_0_0_0_0_0_0_7  |    1|    1|    1|    1|   none   |\n",
      "        |normalize_0_0_0_0_0_0_0_0_0_0_0_0_0_0_0_0_0_0_0_0_0_0_0_0_0_6_U0  |normalize_0_0_0_0_0_0_0_0_0_0_0_0_0_0_0_0_0_0_0_0_0_0_0_0_0_6  |    1|    1|    1|    1|   none   |\n",
      "        |normalize_0_0_0_0_0_0_0_0_0_0_0_0_0_0_0_0_0_0_0_0_0_0_0_0_0_5_U0  |normalize_0_0_0_0_0_0_0_0_0_0_0_0_0_0_0_0_0_0_0_0_0_0_0_0_0_5  |    1|    1|    1|    1|   none   |\n",
      "        |normalize_0_0_0_0_0_0_0_0_0_0_0_0_0_0_0_0_0_0_0_0_0_0_0_0_0_4_U0  |normalize_0_0_0_0_0_0_0_0_0_0_0_0_0_0_0_0_0_0_0_0_0_0_0_0_0_4  |    1|    1|    1|    1|   none   |\n",
      "        |normalize_0_0_0_0_0_0_0_0_0_0_0_0_0_0_0_0_0_0_0_0_0_0_0_0_0_3_U0  |normalize_0_0_0_0_0_0_0_0_0_0_0_0_0_0_0_0_0_0_0_0_0_0_0_0_0_3  |    1|    1|    1|    1|   none   |\n",
      "        |normalize_0_0_0_0_0_0_0_0_0_0_0_0_0_0_0_0_0_0_0_0_0_0_0_0_0_2_U0  |normalize_0_0_0_0_0_0_0_0_0_0_0_0_0_0_0_0_0_0_0_0_0_0_0_0_0_2  |    1|    1|    1|    1|   none   |\n",
      "        |relu_ap_fixed_ap_fixed_7_4_0_0_0_relu_config21_U0                 |relu_ap_fixed_ap_fixed_7_4_0_0_0_relu_config21_s               |    0|    0|    1|    1| function |\n",
      "        |normalize_0_0_0_0_0_0_0_0_0_0_0_0_0_0_0_0_U0                      |normalize_0_0_0_0_0_0_0_0_0_0_0_0_0_0_0_0                      |    1|    1|    1|    1|   none   |\n",
      "        |Block_proc_U0                                                     |Block_proc                                                     |    0|    0|    0|    0|   none   |\n",
      "        |anomaly_detector_entry3_U0                                        |anomaly_detector_entry3                                        |    0|    0|    0|    0|   none   |\n",
      "        |anomaly_detector_entry428_U0                                      |anomaly_detector_entry428                                      |    0|    0|    0|    0|   none   |\n",
      "        +------------------------------------------------------------------+---------------------------------------------------------------+-----+-----+-----+-----+----------+\n",
      "\n",
      "        * Loop: \n",
      "        N/A\n",
      "\n",
      "\n",
      "\n",
      "================================================================\n",
      "== Utilization Estimates\n",
      "================================================================\n",
      "* Summary: \n",
      "+-----------------+---------+-------+--------+--------+-----+\n",
      "|       Name      | BRAM_18K| DSP48E|   FF   |   LUT  | URAM|\n",
      "+-----------------+---------+-------+--------+--------+-----+\n",
      "|DSP              |        -|      -|       -|       -|    -|\n",
      "|Expression       |        -|      -|       0|    6382|    -|\n",
      "|FIFO             |      228|      -|   11916|   60844|    -|\n",
      "|Instance         |       39|    528|   97059|  382928|    -|\n",
      "|Memory           |        -|      -|       -|       -|    -|\n",
      "|Multiplexer      |        -|      -|       -|   14076|    -|\n",
      "|Register         |        -|      -|    1566|       -|    -|\n",
      "+-----------------+---------+-------+--------+--------+-----+\n",
      "|Total            |      267|    528|  110541|  464230|    0|\n",
      "+-----------------+---------+-------+--------+--------+-----+\n",
      "|Available        |      280|    220|  106400|   53200|    0|\n",
      "+-----------------+---------+-------+--------+--------+-----+\n",
      "|Utilization (%)  |       95|    240|     103|     872|    0|\n",
      "+-----------------+---------+-------+--------+--------+-----+\n",
      "\n",
      "+ Detail: \n",
      "    * Instance: \n",
      "    +------------------------------------------------------------------+---------------------------------------------------------------+---------+-------+-------+--------+-----+\n",
      "    |                             Instance                             |                             Module                            | BRAM_18K| DSP48E|   FF  |   LUT  | URAM|\n",
      "    +------------------------------------------------------------------+---------------------------------------------------------------+---------+-------+-------+--------+-----+\n",
      "    |Block_proc_U0                                                     |Block_proc                                                     |        0|      0|      2|      11|    0|\n",
      "    |anomaly_detector_entry3_U0                                        |anomaly_detector_entry3                                        |        0|      0|      3|      38|    0|\n",
      "    |anomaly_detector_entry428_U0                                      |anomaly_detector_entry428                                      |        0|      0|      3|      38|    0|\n",
      "    |dense_ap_fixed_ap_fixed_32_16_5_3_0_config10_U0                   |dense_ap_fixed_ap_fixed_32_16_5_3_0_config10_s                 |        3|      0|   5655|   27095|    0|\n",
      "    |dense_ap_fixed_ap_fixed_32_16_5_3_0_config14_U0                   |dense_ap_fixed_ap_fixed_32_16_5_3_0_config14_s                 |        3|      0|   5656|   27095|    0|\n",
      "    |dense_ap_fixed_ap_fixed_32_16_5_3_0_config18_U0                   |dense_ap_fixed_ap_fixed_32_16_5_3_0_config18_s                 |        2|      0|   2223|    5811|    0|\n",
      "    |dense_ap_fixed_ap_fixed_32_16_5_3_0_config22_U0                   |dense_ap_fixed_ap_fixed_32_16_5_3_0_config22_s                 |        2|      0|   6426|    6987|    0|\n",
      "    |dense_ap_fixed_ap_fixed_32_16_5_3_0_config26_U0                   |dense_ap_fixed_ap_fixed_32_16_5_3_0_config26_s                 |        3|      0|   5656|   27095|    0|\n",
      "    |dense_ap_fixed_ap_fixed_32_16_5_3_0_config2_U0                    |dense_ap_fixed_ap_fixed_32_16_5_3_0_config2_s                  |        8|      0|  12658|   15629|    0|\n",
      "    |dense_ap_fixed_ap_fixed_32_16_5_3_0_config30_U0                   |dense_ap_fixed_ap_fixed_32_16_5_3_0_config30_s                 |        3|      0|   5656|   27095|    0|\n",
      "    |dense_ap_fixed_ap_fixed_32_16_5_3_0_config34_U0                   |dense_ap_fixed_ap_fixed_32_16_5_3_0_config34_s                 |        3|      0|   5655|   27095|    0|\n",
      "    |dense_ap_fixed_ap_fixed_32_16_5_3_0_config38_U0                   |dense_ap_fixed_ap_fixed_32_16_5_3_0_config38_s                 |        9|      0|  19379|  104479|    0|\n",
      "    |dense_ap_fixed_ap_fixed_32_16_5_3_0_config6_U0                    |dense_ap_fixed_ap_fixed_32_16_5_3_0_config6_s                  |        3|      8|   7706|   26799|    0|\n",
      "    |normalize_0_0_0_0_0_0_0_0_0_0_0_0_0_0_0_0_U0                      |normalize_0_0_0_0_0_0_0_0_0_0_0_0_0_0_0_0                      |        0|      8|    259|     498|    0|\n",
      "    |normalize_0_0_0_0_0_0_0_0_0_0_0_0_0_0_0_0_0_0_0_0_0_0_0_0_0_1_U0  |normalize_0_0_0_0_0_0_0_0_0_0_0_0_0_0_0_0_0_0_0_0_0_0_0_0_0_1  |        0|     64|   2051|    3802|    0|\n",
      "    |normalize_0_0_0_0_0_0_0_0_0_0_0_0_0_0_0_0_0_0_0_0_0_0_0_0_0_2_U0  |normalize_0_0_0_0_0_0_0_0_0_0_0_0_0_0_0_0_0_0_0_0_0_0_0_0_0_2  |        0|     64|   2051|    3802|    0|\n",
      "    |normalize_0_0_0_0_0_0_0_0_0_0_0_0_0_0_0_0_0_0_0_0_0_0_0_0_0_3_U0  |normalize_0_0_0_0_0_0_0_0_0_0_0_0_0_0_0_0_0_0_0_0_0_0_0_0_0_3  |        0|     64|   2051|    3802|    0|\n",
      "    |normalize_0_0_0_0_0_0_0_0_0_0_0_0_0_0_0_0_0_0_0_0_0_0_0_0_0_4_U0  |normalize_0_0_0_0_0_0_0_0_0_0_0_0_0_0_0_0_0_0_0_0_0_0_0_0_0_4  |        0|     64|   2051|    3802|    0|\n",
      "    |normalize_0_0_0_0_0_0_0_0_0_0_0_0_0_0_0_0_0_0_0_0_0_0_0_0_0_5_U0  |normalize_0_0_0_0_0_0_0_0_0_0_0_0_0_0_0_0_0_0_0_0_0_0_0_0_0_5  |        0|     64|   2051|    3802|    0|\n",
      "    |normalize_0_0_0_0_0_0_0_0_0_0_0_0_0_0_0_0_0_0_0_0_0_0_0_0_0_6_U0  |normalize_0_0_0_0_0_0_0_0_0_0_0_0_0_0_0_0_0_0_0_0_0_0_0_0_0_6  |        0|     64|   2051|    3802|    0|\n",
      "    |normalize_0_0_0_0_0_0_0_0_0_0_0_0_0_0_0_0_0_0_0_0_0_0_0_0_0_7_U0  |normalize_0_0_0_0_0_0_0_0_0_0_0_0_0_0_0_0_0_0_0_0_0_0_0_0_0_7  |        0|     64|   2051|    3802|    0|\n",
      "    |normalize_0_0_0_0_0_0_0_0_0_0_0_0_0_0_0_0_0_0_0_0_0_0_0_0_0_U0    |normalize_0_0_0_0_0_0_0_0_0_0_0_0_0_0_0_0_0_0_0_0_0_0_0_0_0_s  |        0|     64|   2051|    3802|    0|\n",
      "    |relu_ap_fixed_ap_fixed_16_6_0_0_0_relu_config5_U0                 |relu_ap_fixed_ap_fixed_16_6_0_0_0_relu_config5_s               |        0|      0|    962|    8779|    0|\n",
      "    |relu_ap_fixed_ap_fixed_7_4_0_0_0_relu_config13_U0                 |relu_ap_fixed_ap_fixed_7_4_0_0_0_relu_config13_s               |        0|      0|    386|    6731|    0|\n",
      "    |relu_ap_fixed_ap_fixed_7_4_0_0_0_relu_config17_U0                 |relu_ap_fixed_ap_fixed_7_4_0_0_0_relu_config17_s               |        0|      0|    386|    6731|    0|\n",
      "    |relu_ap_fixed_ap_fixed_7_4_0_0_0_relu_config21_U0                 |relu_ap_fixed_ap_fixed_7_4_0_0_0_relu_config21_s               |        0|      0|     50|     851|    0|\n",
      "    |relu_ap_fixed_ap_fixed_7_4_0_0_0_relu_config25_U0                 |relu_ap_fixed_ap_fixed_7_4_0_0_0_relu_config25_s               |        0|      0|    386|    6731|    0|\n",
      "    |relu_ap_fixed_ap_fixed_7_4_0_0_0_relu_config29_U0                 |relu_ap_fixed_ap_fixed_7_4_0_0_0_relu_config29_s               |        0|      0|    386|    6731|    0|\n",
      "    |relu_ap_fixed_ap_fixed_7_4_0_0_0_relu_config33_U0                 |relu_ap_fixed_ap_fixed_7_4_0_0_0_relu_config33_s               |        0|      0|    386|    6731|    0|\n",
      "    |relu_ap_fixed_ap_fixed_7_4_0_0_0_relu_config37_U0                 |relu_ap_fixed_ap_fixed_7_4_0_0_0_relu_config37_s               |        0|      0|    386|    6731|    0|\n",
      "    |relu_ap_fixed_ap_fixed_7_4_0_0_0_relu_config9_U0                  |relu_ap_fixed_ap_fixed_7_4_0_0_0_relu_config9_s                |        0|      0|    386|    6731|    0|\n",
      "    +------------------------------------------------------------------+---------------------------------------------------------------+---------+-------+-------+--------+-----+\n",
      "    |Total                                                             |                                                               |       39|    528|  97059|  382928|    0|\n",
      "    +------------------------------------------------------------------+---------------------------------------------------------------+---------+-------+-------+--------+-----+\n",
      "\n",
      "Co-simulation report not found.\n"
     ]
    }
   ],
   "source": [
    "hls_model.build(csim=False,synth=True,export=True)\n",
    "\n",
    "hls4ml.report.read_vivado_report(output_dir)"
   ]
  },
  {
   "cell_type": "markdown",
   "metadata": {},
   "source": [
    "## Resource Reference\n",
    "\n",
    "See the resources availables on different boards.\n",
    "\n",
    "```\n",
    "+-----------------+---------+-------+--------+-------+-----+                    \n",
    "|                 |               Resource                 |\n",
    "+-----------------+---------+-------+--------+-------+-----+\n",
    "|      Board      | BRAM_18K| DSP48E|   FF   |  LUT  | URAM|\n",
    "+-----------------+---------+-------+--------+-------+-----+\n",
    "|   PYNQ-Z1/Z2    |      280|    220|  106400|  53200|    0|\n",
    "+-----------------+---------+-------+--------+-------+-----+\n",
    "|     MiniZed     |      100|     66|   28800|  14400|    0|\n",
    "+-----------------+---------+-------+--------+-------+-----+\n",
    "``` "
   ]
  },
  {
   "cell_type": "markdown",
   "metadata": {},
   "source": [
    "## Generate .dat Files (Step 3)\n",
    "\n",
    "The .dat files are used\n",
    "- during the following `csim` step\n",
    "- to generate the header files for SDK"
   ]
  },
  {
   "cell_type": "raw",
   "metadata": {},
   "source": [
    "f = open(output_dir + '/tb_data/tb_input_features.dat', 'w')\n",
    "for i in range(X_test.shape[0]):\n",
    "    for j in range(X_test.shape[1]):\n",
    "        f.write('{} '.format(X_test[i][j]))\n",
    "    f.write('\\n')\n",
    "f.close()\n",
    "\n",
    "f = open(output_dir + '/tb_data/tb_output_predictions.dat', 'w')\n",
    "for i in range(y_test.shape[0]):\n",
    "    for j in range(y_test.shape[1]):\n",
    "        f.write('{} '.format(y_test[i][j]))\n",
    "    f.write('\\n')\n",
    "f.close()"
   ]
  },
  {
   "cell_type": "code",
   "execution_count": 63,
   "metadata": {},
   "outputs": [],
   "source": [
    "f = open(output_dir + '/tb_data/tb_input_features.dat', 'w')\n",
    "for i in range(1):\n",
    "    for j in range(len(X[i])):\n",
    "        for k in range(len(X[i][j])):\n",
    "            f.write('{} '.format(X[i][j]))\n",
    "        f.write('\\n')\n",
    "f.close()\n",
    "\n",
    "f = open(output_dir + '/tb_data/tb_output_predictions.dat', 'w')\n",
    "for i in range(1):\n",
    "    for j in range(len(y[i])):\n",
    "        f.write('{} '.format(y[i][j]))\n",
    "        f.write('\\n')\n",
    "f.close()"
   ]
  },
  {
   "cell_type": "code",
   "execution_count": null,
   "metadata": {},
   "outputs": [],
   "source": []
  },
  {
   "cell_type": "markdown",
   "metadata": {},
   "source": [
    "## Run Vivado HLS csim (Step 4)\n",
    "\n",
    "At this step we generate simulation traces out from the hls4ml-model.\n",
    "\n",
    "Run the following cell to run Vivado HLS GUI:"
   ]
  },
  {
   "cell_type": "raw",
   "metadata": {},
   "source": [
    "!cd $output_dir && vivado_hls -p anomaly_detector_prj"
   ]
  },
  {
   "cell_type": "code",
   "execution_count": null,
   "metadata": {},
   "outputs": [
    {
     "name": "stdout",
     "output_type": "stream",
     "text": [
      "\n",
      "****** Vivado(TM) HLS - High-Level Synthesis from C, C++ and SystemC v2019.1 (64-bit)\n",
      "  **** SW Build 2552052 on Fri May 24 14:47:09 MDT 2019\n",
      "  **** IP Build 2548770 on Fri May 24 18:01:18 MDT 2019\n",
      "    ** Copyright 1986-2019 Xilinx, Inc. All Rights Reserved.\n",
      "\n",
      "source /tools/Xilinx/Vivado/2019.1/scripts/vivado_hls/hls.tcl -notrace\n",
      "INFO: [HLS 200-10] Running '/tools/Xilinx/Vivado/2019.1/bin/unwrapped/lnx64.o/vivado_hls'\n",
      "INFO: [HLS 200-10] For user 'julesmuhizi' on host 'muhizi-3.c.harrisgroup-223921.internal' (Linux_x86_64 version 5.4.0-1040-gcp) on Tue Mar 30 21:24:16 UTC 2021\n",
      "INFO: [HLS 200-10] On os Ubuntu 18.04.5 LTS\n",
      "INFO: [HLS 200-10] In directory '/home/julesmuhizi/hls4ml-tutorial/deploy/vivado_flow/hls/pynqz2_m_axi_16_serial_prj'\n",
      "INFO: [HLS 200-10] Bringing up Vivado HLS GUI ... \n"
     ]
    }
   ],
   "source": [
    "!cd $output_dir && vivado_hls -p anomaly_detector_prj"
   ]
  },
  {
   "cell_type": "markdown",
   "metadata": {},
   "source": [
    "**IMPORTANT** Click the button to `Run C Simulation`.\n",
    "\n",
    "This will generate simulation traces with fixed-point arythmetic.\n",
    "\n",
    "When completed close Vivado HLS GUI."
   ]
  },
  {
   "cell_type": "code",
   "execution_count": null,
   "metadata": {},
   "outputs": [],
   "source": [
    "!cd sys/$board_name && make clean sys-gui"
   ]
  },
  {
   "cell_type": "markdown",
   "metadata": {},
   "source": [
    "## Integrate IP in a Vivado Project and Generate Bitstream (Step 5)"
   ]
  },
  {
   "cell_type": "raw",
   "metadata": {},
   "source": [
    "!cd sys/$board_name && make clean sys-gui"
   ]
  },
  {
   "cell_type": "markdown",
   "metadata": {},
   "source": [
    "**TODO** Tell the user how to visualize the `Block Diagram` to get a better understanding of the IP integration with both Zynq and MicroBlaze PS."
   ]
  },
  {
   "cell_type": "markdown",
   "metadata": {},
   "source": [
    "## Configure Software in Vivado SDK and Run HW/SW on the Board (Step 6)"
   ]
  },
  {
   "cell_type": "markdown",
   "metadata": {},
   "source": [
    "Create Vivado SDK project.\n",
    "\n",
    "- `make sdk` to configure an application with register polling\n",
    "- `make sdk-irq` to configure an application with interrupts (default)"
   ]
  },
  {
   "cell_type": "raw",
   "metadata": {},
   "source": [
    "!source /tools/Xilinx/Vivado/2019.1/settings64.sh && cd sdk/$board_name && make clean sdk-irq"
   ]
  },
  {
   "cell_type": "code",
   "execution_count": null,
   "metadata": {},
   "outputs": [],
   "source": [
    "!source /tools/Xilinx/Vivado/2019.1/settings64.sh && cd sdk/$board_name && make clean sdk-irq"
   ]
  },
  {
   "cell_type": "raw",
   "metadata": {},
   "source": [
    "!xterm -e \"sleep 1 && source /tools/Xilinx/Vivado/2019.1/settings64.sh && cd sdk/$board_name && make gui && sleep infinity\"\n"
   ]
  },
  {
   "cell_type": "code",
   "execution_count": null,
   "metadata": {},
   "outputs": [],
   "source": [
    "!xterm -e \"sleep 1 && source /tools/Xilinx/Vivado/2019.1/settings64.sh && cd sdk/$board_name && make gui && sleep infinity\""
   ]
  },
  {
   "cell_type": "markdown",
   "metadata": {},
   "source": [
    "You can open a serial console, for example\n",
    "```\n",
    "sudo minicom -D /dev/ttyUSB0\n",
    "```\n",
    "and see \n",
    "\n",
    "![serial-console](doc/serial_console.png)"
   ]
  }
 ],
 "metadata": {
  "kernelspec": {
   "display_name": "hls4ml-tutorial-cu",
   "language": "python",
   "name": "hls4ml-tutorial-cu"
  },
  "language_info": {
   "codemirror_mode": {
    "name": "ipython",
    "version": 3
   },
   "file_extension": ".py",
   "mimetype": "text/x-python",
   "name": "python",
   "nbconvert_exporter": "python",
   "pygments_lexer": "ipython3",
   "version": "3.8.8"
  }
 },
 "nbformat": 4,
 "nbformat_minor": 4
}
